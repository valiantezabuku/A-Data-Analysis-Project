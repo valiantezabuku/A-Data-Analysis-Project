{
 "cells": [
  {
   "cell_type": "markdown",
   "metadata": {},
   "source": [
    "## Indian Start-up Funding Analysis\n",
    "\n",
    "\n",
    "### Project Scenario\n",
    "The Team is trying to venture into the Indian start-up ecosystem. As the data expert of the team, I was tasked to:\n",
    "\n",
    "- Investigate the ecosystem and propose the best course of action.\n",
    "  - Analyze funding received by start-ups in India from 2018 to 2021.\n",
    "  - Separate data for each year of funding will be provided.\n",
    "  - Find the start-ups’ details, the funding amounts received, and the investors' information.\n",
    "\n",
    "### Business Understanding\n",
    "#### The Indian startup ecosystem has experienced significant growth and investment over the past few years. As a data expert tasked with investigating this ecosystem, our goal is to analyze the funding received by startups in India from 2018 to 2021 and provide insights to guide investment decisions. By examining the details of startups, funding amounts, and investor information, we aim to understand the trends, opportunities, and challenges within the Indian startup landscape.\n",
    "\n",
    "### Objective\n",
    "To analyze funding trends and dynamics within the Indian start-up ecosystem from 2018 to 2021 and propose strategic recommendations for the team's venture.\n"
   ]
  },
  {
   "cell_type": "code",
   "execution_count": 1,
   "metadata": {},
   "outputs": [
    {
     "name": "stdout",
     "output_type": "stream",
     "text": [
      "🛬 Imported all packages. Warnings hidden. 👻\n"
     ]
    }
   ],
   "source": [
    "import pyodbc \n",
    "from dotenv import dotenv_values \n",
    "import numpy as np\n",
    "import pandas as pd                      \n",
    "import re     \n",
    "import matplotlib.pyplot as plt\n",
    "import statistics as stat \n",
    "from scipy import stats                \n",
    "import warnings\n",
    "warnings.filterwarnings('ignore')\n",
    "\n",
    "print(\"🛬 Imported all packages.\", \"Warnings hidden. 👻\")"
   ]
  },
  {
   "cell_type": "code",
   "execution_count": 1,
   "metadata": {},
   "outputs": [
    {
     "name": "stdout",
     "output_type": "stream",
     "text": [
      "Collecting dotenv\n",
      "  Using cached dotenv-0.0.5.tar.gz (2.4 kB)\n",
      "  Installing build dependencies: started\n",
      "  Installing build dependencies: finished with status 'done'\n",
      "  Getting requirements to build wheel: started\n",
      "  Getting requirements to build wheel: finished with status 'done'\n",
      "  Installing backend dependencies: started\n",
      "  Installing backend dependencies: finished with status 'error'\n",
      "Note: you may need to restart the kernel to use updated packages.\n"
     ]
    },
    {
     "name": "stderr",
     "output_type": "stream",
     "text": [
      "  error: subprocess-exited-with-error\n",
      "  \n",
      "  pip subprocess to install backend dependencies did not run successfully.\n",
      "  exit code: 1\n",
      "  \n",
      "  [33 lines of output]\n",
      "  Collecting distribute\n",
      "    Using cached distribute-0.7.3.zip (145 kB)\n",
      "    Installing build dependencies: started\n",
      "    Installing build dependencies: finished with status 'done'\n",
      "    Getting requirements to build wheel: started\n",
      "    Getting requirements to build wheel: finished with status 'done'\n",
      "    Installing backend dependencies: started\n",
      "    Installing backend dependencies: finished with status 'done'\n",
      "    Preparing metadata (pyproject.toml): started\n",
      "    Preparing metadata (pyproject.toml): finished with status 'error'\n",
      "    error: subprocess-exited-with-error\n",
      "  \n",
      "    Preparing metadata (pyproject.toml) did not run successfully.\n",
      "    exit code: 1\n",
      "  \n",
      "    [6 lines of output]\n",
      "    usage: setup.py [global_opts] cmd1 [cmd1_opts] [cmd2 [cmd2_opts] ...]\n",
      "       or: setup.py --help [cmd1 cmd2 ...]\n",
      "       or: setup.py --help-commands\n",
      "       or: setup.py cmd --help\n",
      "  \n",
      "    error: invalid command 'dist_info'\n",
      "    [end of output]\n",
      "  \n",
      "    note: This error originates from a subprocess, and is likely not a problem with pip.\n",
      "  error: metadata-generation-failed\n",
      "  \n",
      "  Encountered error while generating package metadata.\n",
      "  \n",
      "  See above for output.\n",
      "  \n",
      "  note: This is an issue with the package mentioned above, not pip.\n",
      "  hint: See above for details.\n",
      "  [end of output]\n",
      "  \n",
      "  note: This error originates from a subprocess, and is likely not a problem with pip.\n",
      "error: subprocess-exited-with-error\n",
      "\n",
      "pip subprocess to install backend dependencies did not run successfully.\n",
      "exit code: 1\n",
      "\n",
      "See above for output.\n",
      "\n",
      "note: This error originates from a subprocess, and is likely not a problem with pip.\n"
     ]
    }
   ],
   "source": [
    "%pip install dotenv\n"
   ]
  },
  {
   "cell_type": "markdown",
   "metadata": {},
   "source": [
    "### First Data Set\n",
    "The first data was from a database management system, that is MIRCORSOFT SQL SERVER. Connection was made to the database using an Open Database Connectivity standard library, pyodbc. <br>\n",
    "Two tables were read from the databases. That is, <br>\n",
    "Table 1: dbo.LP1_startup_funding2020 <br>\n",
    "Table 2: dbo.LP1_startup_funding2021\n"
   ]
  },
  {
   "cell_type": "code",
   "execution_count": 2,
   "metadata": {},
   "outputs": [],
   "source": [
    "# Load environment variables from .env file into a dictionary\n",
    "environment_variables = dotenv_values('.env')\n",
    "\n",
    "# Get the values for the credentials you set in the '.env' file\n",
    "server = environment_variables.get(\"SERVER\")\n",
    "database = environment_variables.get(\"DATABASE\")\n",
    "username = environment_variables.get(\"USERNAME\")\n",
    "password = environment_variables.get(\"PASSWORD\")"
   ]
  },
  {
   "cell_type": "code",
   "execution_count": 3,
   "metadata": {},
   "outputs": [],
   "source": [
    "# Create a connection string\n",
    "connection_string = f\"DRIVER={{SQL Server}};SERVER={server};DATABASE={database};UID={username};PWD={password};MARS_Connection=yes;MinProtocolVersion=TLSv1.2;\""
   ]
  },
  {
   "cell_type": "code",
   "execution_count": 4,
   "metadata": {},
   "outputs": [],
   "source": [
    "# Use the connect method of the pyodbc library and pass in the connection string.\n",
    "# This will connect to the server and might take a few seconds to be complete. \n",
    "# Check your internet connection if it takes more time than necessary\n",
    "connection = pyodbc.connect(connection_string)"
   ]
  },
  {
   "cell_type": "code",
   "execution_count": 5,
   "metadata": {},
   "outputs": [],
   "source": [
    "# Now the sql query to get the data is what what you see below.\n",
    "# Note that you will not have permissions to insert delete or update this database table.\n",
    "query = \"Select * from dbo.LP1_startup_funding2020\"\n",
    "table_1 = pd.read_sql(query, connection)\n"
   ]
  },
  {
   "cell_type": "code",
   "execution_count": 6,
   "metadata": {},
   "outputs": [],
   "source": [
    "query = \"Select * from dbo.LP1_startup_funding2021\"\n",
    "table_2 = pd.read_sql(query, connection)"
   ]
  },
  {
   "cell_type": "code",
   "execution_count": 7,
   "metadata": {},
   "outputs": [
    {
     "name": "stdout",
     "output_type": "stream",
     "text": [
      "<class 'pandas.core.frame.DataFrame'>\n",
      "RangeIndex: 1055 entries, 0 to 1054\n",
      "Data columns (total 10 columns):\n",
      " #   Column         Non-Null Count  Dtype  \n",
      "---  ------         --------------  -----  \n",
      " 0   Company_Brand  1055 non-null   object \n",
      " 1   Founded        842 non-null    float64\n",
      " 2   HeadQuarter    961 non-null    object \n",
      " 3   Sector         1042 non-null   object \n",
      " 4   What_it_does   1055 non-null   object \n",
      " 5   Founders       1043 non-null   object \n",
      " 6   Investor       1017 non-null   object \n",
      " 7   Amount         801 non-null    float64\n",
      " 8   Stage          591 non-null    object \n",
      " 9   column10       2 non-null      object \n",
      "dtypes: float64(2), object(8)\n",
      "memory usage: 82.6+ KB\n"
     ]
    }
   ],
   "source": [
    "table_1.info()"
   ]
  },
  {
   "cell_type": "code",
   "execution_count": 8,
   "metadata": {},
   "outputs": [
    {
     "name": "stdout",
     "output_type": "stream",
     "text": [
      "<class 'pandas.core.frame.DataFrame'>\n",
      "RangeIndex: 1209 entries, 0 to 1208\n",
      "Data columns (total 9 columns):\n",
      " #   Column         Non-Null Count  Dtype  \n",
      "---  ------         --------------  -----  \n",
      " 0   Company_Brand  1209 non-null   object \n",
      " 1   Founded        1208 non-null   float64\n",
      " 2   HeadQuarter    1208 non-null   object \n",
      " 3   Sector         1209 non-null   object \n",
      " 4   What_it_does   1209 non-null   object \n",
      " 5   Founders       1205 non-null   object \n",
      " 6   Investor       1147 non-null   object \n",
      " 7   Amount         1206 non-null   object \n",
      " 8   Stage          781 non-null    object \n",
      "dtypes: float64(1), object(8)\n",
      "memory usage: 85.1+ KB\n"
     ]
    }
   ],
   "source": [
    "table_2.info()"
   ]
  },
  {
   "cell_type": "code",
   "execution_count": 9,
   "metadata": {},
   "outputs": [
    {
     "data": {
      "text/html": [
       "<div>\n",
       "<style scoped>\n",
       "    .dataframe tbody tr th:only-of-type {\n",
       "        vertical-align: middle;\n",
       "    }\n",
       "\n",
       "    .dataframe tbody tr th {\n",
       "        vertical-align: top;\n",
       "    }\n",
       "\n",
       "    .dataframe thead th {\n",
       "        text-align: right;\n",
       "    }\n",
       "</style>\n",
       "<table border=\"1\" class=\"dataframe\">\n",
       "  <thead>\n",
       "    <tr style=\"text-align: right;\">\n",
       "      <th></th>\n",
       "      <th>Company_Brand</th>\n",
       "      <th>Founded</th>\n",
       "      <th>HeadQuarter</th>\n",
       "      <th>Sector</th>\n",
       "      <th>What_it_does</th>\n",
       "      <th>Founders</th>\n",
       "      <th>Investor</th>\n",
       "      <th>Amount</th>\n",
       "      <th>Stage</th>\n",
       "      <th>column10</th>\n",
       "    </tr>\n",
       "  </thead>\n",
       "  <tbody>\n",
       "    <tr>\n",
       "      <th>0</th>\n",
       "      <td>Aqgromalin</td>\n",
       "      <td>2019.0</td>\n",
       "      <td>Chennai</td>\n",
       "      <td>AgriTech</td>\n",
       "      <td>Cultivating Ideas for Profit</td>\n",
       "      <td>Prasanna Manogaran, Bharani C L</td>\n",
       "      <td>Angel investors</td>\n",
       "      <td>200000.0</td>\n",
       "      <td>None</td>\n",
       "      <td>None</td>\n",
       "    </tr>\n",
       "    <tr>\n",
       "      <th>1</th>\n",
       "      <td>Krayonnz</td>\n",
       "      <td>2019.0</td>\n",
       "      <td>Bangalore</td>\n",
       "      <td>EdTech</td>\n",
       "      <td>An academy-guardian-scholar centric ecosystem ...</td>\n",
       "      <td>Saurabh Dixit, Gurudutt Upadhyay</td>\n",
       "      <td>GSF Accelerator</td>\n",
       "      <td>100000.0</td>\n",
       "      <td>Pre-seed</td>\n",
       "      <td>None</td>\n",
       "    </tr>\n",
       "    <tr>\n",
       "      <th>2</th>\n",
       "      <td>PadCare Labs</td>\n",
       "      <td>2018.0</td>\n",
       "      <td>Pune</td>\n",
       "      <td>Hygiene management</td>\n",
       "      <td>Converting bio-hazardous waste to harmless waste</td>\n",
       "      <td>Ajinkya Dhariya</td>\n",
       "      <td>Venture Center</td>\n",
       "      <td>NaN</td>\n",
       "      <td>Pre-seed</td>\n",
       "      <td>None</td>\n",
       "    </tr>\n",
       "  </tbody>\n",
       "</table>\n",
       "</div>"
      ],
      "text/plain": [
       "  Company_Brand  Founded HeadQuarter              Sector  \\\n",
       "0    Aqgromalin   2019.0     Chennai            AgriTech   \n",
       "1      Krayonnz   2019.0   Bangalore              EdTech   \n",
       "2  PadCare Labs   2018.0        Pune  Hygiene management   \n",
       "\n",
       "                                        What_it_does  \\\n",
       "0                       Cultivating Ideas for Profit   \n",
       "1  An academy-guardian-scholar centric ecosystem ...   \n",
       "2   Converting bio-hazardous waste to harmless waste   \n",
       "\n",
       "                           Founders         Investor    Amount     Stage  \\\n",
       "0   Prasanna Manogaran, Bharani C L  Angel investors  200000.0      None   \n",
       "1  Saurabh Dixit, Gurudutt Upadhyay  GSF Accelerator  100000.0  Pre-seed   \n",
       "2                   Ajinkya Dhariya   Venture Center       NaN  Pre-seed   \n",
       "\n",
       "  column10  \n",
       "0     None  \n",
       "1     None  \n",
       "2     None  "
      ]
     },
     "execution_count": 9,
     "metadata": {},
     "output_type": "execute_result"
    }
   ],
   "source": [
    "table_1.head(3)"
   ]
  },
  {
   "cell_type": "code",
   "execution_count": 10,
   "metadata": {},
   "outputs": [
    {
     "data": {
      "text/html": [
       "<div>\n",
       "<style scoped>\n",
       "    .dataframe tbody tr th:only-of-type {\n",
       "        vertical-align: middle;\n",
       "    }\n",
       "\n",
       "    .dataframe tbody tr th {\n",
       "        vertical-align: top;\n",
       "    }\n",
       "\n",
       "    .dataframe thead th {\n",
       "        text-align: right;\n",
       "    }\n",
       "</style>\n",
       "<table border=\"1\" class=\"dataframe\">\n",
       "  <thead>\n",
       "    <tr style=\"text-align: right;\">\n",
       "      <th></th>\n",
       "      <th>Company_Brand</th>\n",
       "      <th>Founded</th>\n",
       "      <th>HeadQuarter</th>\n",
       "      <th>Sector</th>\n",
       "      <th>What_it_does</th>\n",
       "      <th>Founders</th>\n",
       "      <th>Investor</th>\n",
       "      <th>Amount</th>\n",
       "      <th>Stage</th>\n",
       "      <th>column10</th>\n",
       "    </tr>\n",
       "  </thead>\n",
       "  <tbody>\n",
       "    <tr>\n",
       "      <th>611</th>\n",
       "      <td>Walrus</td>\n",
       "      <td>2019.0</td>\n",
       "      <td>Bangalore</td>\n",
       "      <td>Fintech</td>\n",
       "      <td>It provides banking solutions for teens and yo...</td>\n",
       "      <td>Bhagaban Behera, Sriharsha Shetty, Nakul Kelkar</td>\n",
       "      <td>Better Capital</td>\n",
       "      <td>NaN</td>\n",
       "      <td>Pre-Seed</td>\n",
       "      <td>Pre-Seed</td>\n",
       "    </tr>\n",
       "    <tr>\n",
       "      <th>613</th>\n",
       "      <td>goDutch</td>\n",
       "      <td>NaN</td>\n",
       "      <td>Mumbai</td>\n",
       "      <td>Fintech</td>\n",
       "      <td>Group Payments platform</td>\n",
       "      <td>Aniruddh Singh, Riyaz Khan, Sagar Sheth</td>\n",
       "      <td>Matrix India, Y Combinator, Global Founders Ca...</td>\n",
       "      <td>1700000.0</td>\n",
       "      <td>Seed Round</td>\n",
       "      <td>Seed Round</td>\n",
       "    </tr>\n",
       "  </tbody>\n",
       "</table>\n",
       "</div>"
      ],
      "text/plain": [
       "    Company_Brand  Founded HeadQuarter   Sector  \\\n",
       "611        Walrus   2019.0   Bangalore  Fintech   \n",
       "613       goDutch      NaN      Mumbai  Fintech   \n",
       "\n",
       "                                          What_it_does  \\\n",
       "611  It provides banking solutions for teens and yo...   \n",
       "613                            Group Payments platform   \n",
       "\n",
       "                                            Founders  \\\n",
       "611  Bhagaban Behera, Sriharsha Shetty, Nakul Kelkar   \n",
       "613          Aniruddh Singh, Riyaz Khan, Sagar Sheth   \n",
       "\n",
       "                                              Investor     Amount       Stage  \\\n",
       "611                                     Better Capital        NaN    Pre-Seed   \n",
       "613  Matrix India, Y Combinator, Global Founders Ca...  1700000.0  Seed Round   \n",
       "\n",
       "       column10  \n",
       "611    Pre-Seed  \n",
       "613  Seed Round  "
      ]
     },
     "execution_count": 10,
     "metadata": {},
     "output_type": "execute_result"
    }
   ],
   "source": [
    "table_1[table_1['column10'].notna()]"
   ]
  },
  {
   "cell_type": "markdown",
   "metadata": {},
   "source": [
    "#### Drop column10 in table_1 since it has just two values that are not null and are also just repetition of values in Stage column "
   ]
  },
  {
   "cell_type": "code",
   "execution_count": 11,
   "metadata": {},
   "outputs": [
    {
     "data": {
      "text/html": [
       "<div>\n",
       "<style scoped>\n",
       "    .dataframe tbody tr th:only-of-type {\n",
       "        vertical-align: middle;\n",
       "    }\n",
       "\n",
       "    .dataframe tbody tr th {\n",
       "        vertical-align: top;\n",
       "    }\n",
       "\n",
       "    .dataframe thead th {\n",
       "        text-align: right;\n",
       "    }\n",
       "</style>\n",
       "<table border=\"1\" class=\"dataframe\">\n",
       "  <thead>\n",
       "    <tr style=\"text-align: right;\">\n",
       "      <th></th>\n",
       "      <th>Company_Brand</th>\n",
       "      <th>Founded</th>\n",
       "      <th>HeadQuarter</th>\n",
       "      <th>Sector</th>\n",
       "      <th>What_it_does</th>\n",
       "      <th>Founders</th>\n",
       "      <th>Investor</th>\n",
       "      <th>Amount</th>\n",
       "      <th>Stage</th>\n",
       "    </tr>\n",
       "  </thead>\n",
       "  <tbody>\n",
       "    <tr>\n",
       "      <th>0</th>\n",
       "      <td>Aqgromalin</td>\n",
       "      <td>2019.0</td>\n",
       "      <td>Chennai</td>\n",
       "      <td>AgriTech</td>\n",
       "      <td>Cultivating Ideas for Profit</td>\n",
       "      <td>Prasanna Manogaran, Bharani C L</td>\n",
       "      <td>Angel investors</td>\n",
       "      <td>200000.0</td>\n",
       "      <td>None</td>\n",
       "    </tr>\n",
       "    <tr>\n",
       "      <th>1</th>\n",
       "      <td>Krayonnz</td>\n",
       "      <td>2019.0</td>\n",
       "      <td>Bangalore</td>\n",
       "      <td>EdTech</td>\n",
       "      <td>An academy-guardian-scholar centric ecosystem ...</td>\n",
       "      <td>Saurabh Dixit, Gurudutt Upadhyay</td>\n",
       "      <td>GSF Accelerator</td>\n",
       "      <td>100000.0</td>\n",
       "      <td>Pre-seed</td>\n",
       "    </tr>\n",
       "    <tr>\n",
       "      <th>2</th>\n",
       "      <td>PadCare Labs</td>\n",
       "      <td>2018.0</td>\n",
       "      <td>Pune</td>\n",
       "      <td>Hygiene management</td>\n",
       "      <td>Converting bio-hazardous waste to harmless waste</td>\n",
       "      <td>Ajinkya Dhariya</td>\n",
       "      <td>Venture Center</td>\n",
       "      <td>NaN</td>\n",
       "      <td>Pre-seed</td>\n",
       "    </tr>\n",
       "  </tbody>\n",
       "</table>\n",
       "</div>"
      ],
      "text/plain": [
       "  Company_Brand  Founded HeadQuarter              Sector  \\\n",
       "0    Aqgromalin   2019.0     Chennai            AgriTech   \n",
       "1      Krayonnz   2019.0   Bangalore              EdTech   \n",
       "2  PadCare Labs   2018.0        Pune  Hygiene management   \n",
       "\n",
       "                                        What_it_does  \\\n",
       "0                       Cultivating Ideas for Profit   \n",
       "1  An academy-guardian-scholar centric ecosystem ...   \n",
       "2   Converting bio-hazardous waste to harmless waste   \n",
       "\n",
       "                           Founders         Investor    Amount     Stage  \n",
       "0   Prasanna Manogaran, Bharani C L  Angel investors  200000.0      None  \n",
       "1  Saurabh Dixit, Gurudutt Upadhyay  GSF Accelerator  100000.0  Pre-seed  \n",
       "2                   Ajinkya Dhariya   Venture Center       NaN  Pre-seed  "
      ]
     },
     "execution_count": 11,
     "metadata": {},
     "output_type": "execute_result"
    }
   ],
   "source": [
    "# Drop column10\n",
    "table_1.drop('column10', axis=1, inplace=True) if 'column10' in table_1.columns else table_1\n",
    "table_1.head(3)"
   ]
  },
  {
   "cell_type": "code",
   "execution_count": 12,
   "metadata": {},
   "outputs": [],
   "source": [
    "# Function to clean the column names\n",
    "\n",
    "def stripper(string: str, strip: list) -> str:\n",
    "    \"\"\"Strips a strip list from a given string and returns the string\"\"\"\n",
    "    for s in strip:\n",
    "        string = string.replace(s, '')\n",
    "        \n",
    "    return string\n",
    "    \n",
    "def replacer(string: str, replace: list) -> str:\n",
    "    \"\"\"Replaces each character in replace list with underscore given a string and returns the string\"\"\"\n",
    "    for r in replace:\n",
    "        string = string.replace(r, '_')\n",
    "                \n",
    "    return string\n",
    "    \n",
    "def clean_column_names(df):\n",
    "    strip   = ['(', ')', '$']\n",
    "    replace = [' ', '/'] \n",
    "    df.columns = [replacer(stripper(col_name.lower(), strip), replace) for col_name in df.columns]\n",
    "    return df\n"
   ]
  },
  {
   "cell_type": "code",
   "execution_count": 13,
   "metadata": {},
   "outputs": [],
   "source": [
    "# Clean the column names\n",
    "table_1 = clean_column_names(table_1)\n",
    "table_2 = clean_column_names(table_2)"
   ]
  },
  {
   "cell_type": "code",
   "execution_count": 14,
   "metadata": {},
   "outputs": [
    {
     "name": "stdout",
     "output_type": "stream",
     "text": [
      "<class 'pandas.core.frame.DataFrame'>\n",
      "RangeIndex: 1055 entries, 0 to 1054\n",
      "Data columns (total 9 columns):\n",
      " #   Column         Non-Null Count  Dtype  \n",
      "---  ------         --------------  -----  \n",
      " 0   company_brand  1055 non-null   object \n",
      " 1   founded        842 non-null    float64\n",
      " 2   headquarter    961 non-null    object \n",
      " 3   sector         1042 non-null   object \n",
      " 4   what_it_does   1055 non-null   object \n",
      " 5   founders       1043 non-null   object \n",
      " 6   investor       1017 non-null   object \n",
      " 7   amount         801 non-null    float64\n",
      " 8   stage          591 non-null    object \n",
      "dtypes: float64(2), object(7)\n",
      "memory usage: 74.3+ KB\n"
     ]
    }
   ],
   "source": [
    "table_1.info()"
   ]
  },
  {
   "cell_type": "code",
   "execution_count": 15,
   "metadata": {},
   "outputs": [
    {
     "name": "stdout",
     "output_type": "stream",
     "text": [
      "<class 'pandas.core.frame.DataFrame'>\n",
      "RangeIndex: 1209 entries, 0 to 1208\n",
      "Data columns (total 9 columns):\n",
      " #   Column         Non-Null Count  Dtype  \n",
      "---  ------         --------------  -----  \n",
      " 0   company_brand  1209 non-null   object \n",
      " 1   founded        1208 non-null   float64\n",
      " 2   headquarter    1208 non-null   object \n",
      " 3   sector         1209 non-null   object \n",
      " 4   what_it_does   1209 non-null   object \n",
      " 5   founders       1205 non-null   object \n",
      " 6   investor       1147 non-null   object \n",
      " 7   amount         1206 non-null   object \n",
      " 8   stage          781 non-null    object \n",
      "dtypes: float64(1), object(8)\n",
      "memory usage: 85.1+ KB\n"
     ]
    }
   ],
   "source": [
    "table_2.info()"
   ]
  },
  {
   "cell_type": "markdown",
   "metadata": {},
   "source": [
    "## Create year column to identify each dataset"
   ]
  },
  {
   "cell_type": "code",
   "execution_count": 16,
   "metadata": {},
   "outputs": [],
   "source": [
    "# Table 1: dbo.LP1_startup_funding2020\n",
    "table_1['year'] = 2020\n",
    "\n",
    "# Table 2: dbo.LP1_startup_funding2021\n",
    "table_2['year'] = 2021"
   ]
  },
  {
   "cell_type": "markdown",
   "metadata": {},
   "source": [
    "### First Data Set\n",
    "\n"
   ]
  },
  {
   "cell_type": "code",
   "execution_count": 17,
   "metadata": {},
   "outputs": [
    {
     "name": "stdout",
     "output_type": "stream",
     "text": [
      "<class 'pandas.core.frame.DataFrame'>\n",
      "RangeIndex: 2264 entries, 0 to 2263\n",
      "Data columns (total 10 columns):\n",
      " #   Column         Non-Null Count  Dtype  \n",
      "---  ------         --------------  -----  \n",
      " 0   company_brand  2264 non-null   object \n",
      " 1   founded        2050 non-null   float64\n",
      " 2   headquarter    2169 non-null   object \n",
      " 3   sector         2251 non-null   object \n",
      " 4   what_it_does   2264 non-null   object \n",
      " 5   founders       2248 non-null   object \n",
      " 6   investor       2164 non-null   object \n",
      " 7   amount         2007 non-null   object \n",
      " 8   stage          1372 non-null   object \n",
      " 9   year           2264 non-null   int64  \n",
      "dtypes: float64(1), int64(1), object(8)\n",
      "memory usage: 177.0+ KB\n"
     ]
    }
   ],
   "source": [
    "# First Data set\n",
    "first_dataset = pd.concat([table_1, table_2], ignore_index=True)\n",
    "\n",
    "first_dataset.info()\n"
   ]
  },
  {
   "cell_type": "markdown",
   "metadata": {},
   "source": [
    "## Second Data Set"
   ]
  },
  {
   "cell_type": "code",
   "execution_count": 18,
   "metadata": {},
   "outputs": [
    {
     "name": "stdout",
     "output_type": "stream",
     "text": [
      "<class 'pandas.core.frame.DataFrame'>\n",
      "RangeIndex: 89 entries, 0 to 88\n",
      "Data columns (total 9 columns):\n",
      " #   Column         Non-Null Count  Dtype  \n",
      "---  ------         --------------  -----  \n",
      " 0   company_brand  89 non-null     object \n",
      " 1   founded        60 non-null     float64\n",
      " 2   headquarter    70 non-null     object \n",
      " 3   sector         84 non-null     object \n",
      " 4   what_it_does   89 non-null     object \n",
      " 5   founders       86 non-null     object \n",
      " 6   investor       89 non-null     object \n",
      " 7   amount         89 non-null     object \n",
      " 8   stage          43 non-null     object \n",
      "dtypes: float64(1), object(8)\n",
      "memory usage: 6.4+ KB\n"
     ]
    }
   ],
   "source": [
    "# Load dataset\n",
    "second_dataset = pd.read_csv('My data/startup_funding2019.csv')\n",
    "\n",
    "second_dataset = clean_column_names(second_dataset)\n",
    "\n",
    "second_dataset.info()"
   ]
  },
  {
   "cell_type": "markdown",
   "metadata": {},
   "source": [
    "## Third Data Set"
   ]
  },
  {
   "cell_type": "code",
   "execution_count": 19,
   "metadata": {},
   "outputs": [
    {
     "name": "stdout",
     "output_type": "stream",
     "text": [
      "<class 'pandas.core.frame.DataFrame'>\n",
      "RangeIndex: 526 entries, 0 to 525\n",
      "Data columns (total 6 columns):\n",
      " #   Column         Non-Null Count  Dtype \n",
      "---  ------         --------------  ----- \n",
      " 0   company_name   526 non-null    object\n",
      " 1   industry       526 non-null    object\n",
      " 2   round_series   526 non-null    object\n",
      " 3   amount         526 non-null    object\n",
      " 4   location       526 non-null    object\n",
      " 5   about_company  526 non-null    object\n",
      "dtypes: object(6)\n",
      "memory usage: 24.8+ KB\n"
     ]
    }
   ],
   "source": [
    "# Load dataset\n",
    "third_dataset = pd.read_csv('My data/startup_funding2018.csv')\n",
    "\n",
    "third_dataset = clean_column_names(third_dataset)\n",
    "\n",
    "third_dataset.info()"
   ]
  },
  {
   "cell_type": "code",
   "execution_count": 20,
   "metadata": {},
   "outputs": [],
   "source": [
    "# Fix location values, take every letter before the first comma as headquarter\n",
    "third_dataset['location'] = [location.split(',')[0] for location in third_dataset['location']]\n"
   ]
  },
  {
   "cell_type": "code",
   "execution_count": 21,
   "metadata": {},
   "outputs": [
    {
     "name": "stdout",
     "output_type": "stream",
     "text": [
      "<class 'pandas.core.frame.DataFrame'>\n",
      "RangeIndex: 526 entries, 0 to 525\n",
      "Data columns (total 6 columns):\n",
      " #   Column         Non-Null Count  Dtype \n",
      "---  ------         --------------  ----- \n",
      " 0   company_brand  526 non-null    object\n",
      " 1   sector         526 non-null    object\n",
      " 2   stage          526 non-null    object\n",
      " 3   amount         526 non-null    object\n",
      " 4   headquarter    526 non-null    object\n",
      " 5   what_it_does   526 non-null    object\n",
      "dtypes: object(6)\n",
      "memory usage: 24.8+ KB\n"
     ]
    }
   ],
   "source": [
    "# Rename round_series to stage and location to headquarter\n",
    "third_dataset.rename(columns={\n",
    "    'company_name': 'company_brand', \n",
    "    'industry': 'sector', \n",
    "    'round_series': 'stage', \n",
    "    'about_company': 'what_it_does', \n",
    "    'location': 'headquarter'\n",
    "    },\n",
    "    inplace=True\n",
    ")\n",
    "\n",
    "third_dataset.info()"
   ]
  },
  {
   "cell_type": "markdown",
   "metadata": {},
   "source": [
    "## Create Year column to identify each dataset\n"
   ]
  },
  {
   "cell_type": "code",
   "execution_count": 22,
   "metadata": {},
   "outputs": [],
   "source": [
    "# Create year column\n",
    "\n",
    "# The second data is a flat-file name startup_funding2019.csv\n",
    "second_dataset['year'] = 2019\n",
    "\n",
    "# The third part of the data flat-file named startup_funding2018.csv\n",
    "third_dataset['year']  = 2018"
   ]
  },
  {
   "cell_type": "markdown",
   "metadata": {},
   "source": [
    "# Create the final concatenated dataset"
   ]
  },
  {
   "cell_type": "code",
   "execution_count": 23,
   "metadata": {},
   "outputs": [
    {
     "name": "stdout",
     "output_type": "stream",
     "text": [
      "<class 'pandas.core.frame.DataFrame'>\n",
      "RangeIndex: 2879 entries, 0 to 2878\n",
      "Data columns (total 10 columns):\n",
      " #   Column         Non-Null Count  Dtype  \n",
      "---  ------         --------------  -----  \n",
      " 0   company_brand  2879 non-null   object \n",
      " 1   founded        2110 non-null   float64\n",
      " 2   headquarter    2765 non-null   object \n",
      " 3   sector         2861 non-null   object \n",
      " 4   what_it_does   2879 non-null   object \n",
      " 5   founders       2334 non-null   object \n",
      " 6   investor       2253 non-null   object \n",
      " 7   amount         2622 non-null   object \n",
      " 8   stage          1941 non-null   object \n",
      " 9   year           2879 non-null   int64  \n",
      "dtypes: float64(1), int64(1), object(8)\n",
      "memory usage: 225.1+ KB\n"
     ]
    }
   ],
   "source": [
    "# Final Data set\n",
    "final_dataset = pd.concat([first_dataset, second_dataset, third_dataset], ignore_index=True)\n",
    "\n",
    "final_dataset.info()"
   ]
  },
  {
   "cell_type": "code",
   "execution_count": 24,
   "metadata": {},
   "outputs": [
    {
     "data": {
      "text/html": [
       "<div>\n",
       "<style scoped>\n",
       "    .dataframe tbody tr th:only-of-type {\n",
       "        vertical-align: middle;\n",
       "    }\n",
       "\n",
       "    .dataframe tbody tr th {\n",
       "        vertical-align: top;\n",
       "    }\n",
       "\n",
       "    .dataframe thead th {\n",
       "        text-align: right;\n",
       "    }\n",
       "</style>\n",
       "<table border=\"1\" class=\"dataframe\">\n",
       "  <thead>\n",
       "    <tr style=\"text-align: right;\">\n",
       "      <th></th>\n",
       "      <th>company_brand</th>\n",
       "      <th>founded</th>\n",
       "      <th>headquarter</th>\n",
       "      <th>sector</th>\n",
       "      <th>what_it_does</th>\n",
       "      <th>founders</th>\n",
       "      <th>investor</th>\n",
       "      <th>amount</th>\n",
       "      <th>stage</th>\n",
       "      <th>year</th>\n",
       "    </tr>\n",
       "  </thead>\n",
       "  <tbody>\n",
       "    <tr>\n",
       "      <th>0</th>\n",
       "      <td>Aqgromalin</td>\n",
       "      <td>2019.0</td>\n",
       "      <td>Chennai</td>\n",
       "      <td>AgriTech</td>\n",
       "      <td>Cultivating Ideas for Profit</td>\n",
       "      <td>Prasanna Manogaran, Bharani C L</td>\n",
       "      <td>Angel investors</td>\n",
       "      <td>200000.0</td>\n",
       "      <td>None</td>\n",
       "      <td>2020</td>\n",
       "    </tr>\n",
       "    <tr>\n",
       "      <th>1</th>\n",
       "      <td>Krayonnz</td>\n",
       "      <td>2019.0</td>\n",
       "      <td>Bangalore</td>\n",
       "      <td>EdTech</td>\n",
       "      <td>An academy-guardian-scholar centric ecosystem ...</td>\n",
       "      <td>Saurabh Dixit, Gurudutt Upadhyay</td>\n",
       "      <td>GSF Accelerator</td>\n",
       "      <td>100000.0</td>\n",
       "      <td>Pre-seed</td>\n",
       "      <td>2020</td>\n",
       "    </tr>\n",
       "    <tr>\n",
       "      <th>2</th>\n",
       "      <td>PadCare Labs</td>\n",
       "      <td>2018.0</td>\n",
       "      <td>Pune</td>\n",
       "      <td>Hygiene management</td>\n",
       "      <td>Converting bio-hazardous waste to harmless waste</td>\n",
       "      <td>Ajinkya Dhariya</td>\n",
       "      <td>Venture Center</td>\n",
       "      <td>NaN</td>\n",
       "      <td>Pre-seed</td>\n",
       "      <td>2020</td>\n",
       "    </tr>\n",
       "    <tr>\n",
       "      <th>3</th>\n",
       "      <td>NCOME</td>\n",
       "      <td>2020.0</td>\n",
       "      <td>New Delhi</td>\n",
       "      <td>Escrow</td>\n",
       "      <td>Escrow-as-a-service platform</td>\n",
       "      <td>Ritesh Tiwari</td>\n",
       "      <td>Venture Catalysts, PointOne Capital</td>\n",
       "      <td>400000.0</td>\n",
       "      <td>None</td>\n",
       "      <td>2020</td>\n",
       "    </tr>\n",
       "    <tr>\n",
       "      <th>4</th>\n",
       "      <td>Gramophone</td>\n",
       "      <td>2016.0</td>\n",
       "      <td>Indore</td>\n",
       "      <td>AgriTech</td>\n",
       "      <td>Gramophone is an AgTech platform enabling acce...</td>\n",
       "      <td>Ashish Rajan Singh, Harshit Gupta, Nishant Mah...</td>\n",
       "      <td>Siana Capital Management, Info Edge</td>\n",
       "      <td>340000.0</td>\n",
       "      <td>None</td>\n",
       "      <td>2020</td>\n",
       "    </tr>\n",
       "  </tbody>\n",
       "</table>\n",
       "</div>"
      ],
      "text/plain": [
       "  company_brand  founded headquarter              sector  \\\n",
       "0    Aqgromalin   2019.0     Chennai            AgriTech   \n",
       "1      Krayonnz   2019.0   Bangalore              EdTech   \n",
       "2  PadCare Labs   2018.0        Pune  Hygiene management   \n",
       "3         NCOME   2020.0   New Delhi              Escrow   \n",
       "4    Gramophone   2016.0      Indore            AgriTech   \n",
       "\n",
       "                                        what_it_does  \\\n",
       "0                       Cultivating Ideas for Profit   \n",
       "1  An academy-guardian-scholar centric ecosystem ...   \n",
       "2   Converting bio-hazardous waste to harmless waste   \n",
       "3                       Escrow-as-a-service platform   \n",
       "4  Gramophone is an AgTech platform enabling acce...   \n",
       "\n",
       "                                            founders  \\\n",
       "0                    Prasanna Manogaran, Bharani C L   \n",
       "1                   Saurabh Dixit, Gurudutt Upadhyay   \n",
       "2                                    Ajinkya Dhariya   \n",
       "3                                      Ritesh Tiwari   \n",
       "4  Ashish Rajan Singh, Harshit Gupta, Nishant Mah...   \n",
       "\n",
       "                              investor    amount     stage  year  \n",
       "0                      Angel investors  200000.0      None  2020  \n",
       "1                      GSF Accelerator  100000.0  Pre-seed  2020  \n",
       "2                       Venture Center       NaN  Pre-seed  2020  \n",
       "3  Venture Catalysts, PointOne Capital  400000.0      None  2020  \n",
       "4  Siana Capital Management, Info Edge  340000.0      None  2020  "
      ]
     },
     "execution_count": 24,
     "metadata": {},
     "output_type": "execute_result"
    }
   ],
   "source": [
    "final_dataset.head()"
   ]
  },
  {
   "cell_type": "markdown",
   "metadata": {},
   "source": [
    "## Remove '#REF!' in random column values from final_dataset"
   ]
  },
  {
   "cell_type": "code",
   "execution_count": 25,
   "metadata": {},
   "outputs": [],
   "source": [
    "# Function to remove '#REF!' from all columns\n",
    "def remove_ref(value):\n",
    "    if isinstance(value, str):\n",
    "        value = value.replace('#REF!', '')\n",
    "    \n",
    "    return value\n",
    "\n",
    "# Apply the function to all columns\n",
    "final_dataset = final_dataset.applymap(remove_ref) # element-wise"
   ]
  },
  {
   "cell_type": "markdown",
   "metadata": {},
   "source": [
    "## Replace 'None' string values with NaN element-wise allowing for consistent representation of missing values"
   ]
  },
  {
   "cell_type": "code",
   "execution_count": 26,
   "metadata": {},
   "outputs": [],
   "source": [
    "# Function replace None with NaN\n",
    "def replace_none(value):\n",
    "    if isinstance(value, str) and (value.lower() == 'none' or value.lower() == 'nan'):\n",
    "        value = np.nan\n",
    "    \n",
    "    return value\n",
    "\n",
    "# Apply the function to all columns\n",
    "final_dataset = final_dataset.applymap(replace_none) # element-wise"
   ]
  },
  {
   "cell_type": "code",
   "execution_count": 27,
   "metadata": {},
   "outputs": [
    {
     "name": "stdout",
     "output_type": "stream",
     "text": [
      "<class 'pandas.core.frame.DataFrame'>\n",
      "RangeIndex: 2879 entries, 0 to 2878\n",
      "Data columns (total 10 columns):\n",
      " #   Column         Non-Null Count  Dtype  \n",
      "---  ------         --------------  -----  \n",
      " 0   company_brand  2879 non-null   object \n",
      " 1   founded        2110 non-null   float64\n",
      " 2   headquarter    2765 non-null   object \n",
      " 3   sector         2861 non-null   object \n",
      " 4   what_it_does   2879 non-null   object \n",
      " 5   founders       2334 non-null   object \n",
      " 6   investor       2253 non-null   object \n",
      " 7   amount         2622 non-null   object \n",
      " 8   stage          1941 non-null   object \n",
      " 9   year           2879 non-null   int64  \n",
      "dtypes: float64(1), int64(1), object(8)\n",
      "memory usage: 225.1+ KB\n"
     ]
    }
   ],
   "source": [
    "final_dataset.info()"
   ]
  },
  {
   "cell_type": "markdown",
   "metadata": {},
   "source": [
    "## If a value in stage column is a website link, its correct value is NaN\n",
    "\n",
    "**Website link in stage column is https://docs.google.com/spreadsheets/d/1x9ziNeaz6auNChIHnMI8U6kS7knTr3byy_YBGfQaoUA/edit#gid=1861303593**"
   ]
  },
  {
   "cell_type": "code",
   "execution_count": 28,
   "metadata": {},
   "outputs": [],
   "source": [
    "# Function to remove website link from stage column\n",
    "def remove_website_link(value):\n",
    "    # Regular expression pattern to match website URLs that begin with http:// or https:// with an optional www\n",
    "    pattern = r'https?://(?:www\\.)?\\w+\\.\\w+(?:/\\S*)?'\n",
    "    \n",
    "    # Check if the value is a string and matches the pattern\n",
    "    if isinstance(value, str) and re.match(pattern, value):\n",
    "        return np.nan\n",
    "    else:\n",
    "        return value"
   ]
  },
  {
   "cell_type": "code",
   "execution_count": 29,
   "metadata": {},
   "outputs": [],
   "source": [
    "# Remove website link values from the stage column\n",
    "final_dataset['stage'] = final_dataset['stage'].apply(remove_website_link)"
   ]
  },
  {
   "cell_type": "markdown",
   "metadata": {},
   "source": [
    "## As at Feb 23, 10:00:00 PM UTC, Google Finance says\n",
    "### 1 Indian Rupee equals\n",
    "### 0.012 United States Dollar"
   ]
  },
  {
   "cell_type": "code",
   "execution_count": 30,
   "metadata": {},
   "outputs": [],
   "source": [
    "# Function to clean amount values\n",
    "def floater(string):\n",
    "    try:\n",
    "        string = float(string)\n",
    "    except ValueError:\n",
    "        string = np.nan\n",
    "    \n",
    "    return string\n",
    "    \n",
    "def clean_amount(amount):    \n",
    "    if isinstance(amount, str):\n",
    "        # Convert to lowercase\n",
    "        amount = amount.lower()\n",
    "        \n",
    "        # Remove any spaces\n",
    "        amount = amount.replace(' ', '')\n",
    "        \n",
    "        # Remove commas\n",
    "        amount = amount.replace(',', '')\n",
    "        \n",
    "        if amount == '' or amount == '—': \n",
    "            amount = np.nan\n",
    "        # If the amount is in INR (Indian Rupees), convert it to USD using the conversion rate of 1 INR = 0.012 USD\n",
    "        elif '₹' in amount:\n",
    "            amount = amount.replace('₹', '')\n",
    "            amount = floater(amount) * 0.012\n",
    "        \n",
    "        # If the amount is in USD, remove the '$' symbol and convert it to a float\n",
    "        elif '$' in amount:\n",
    "            amount = amount.replace('$', '')\n",
    "            amount = floater(amount)\n",
    "        else:\n",
    "            amount = floater(amount)\n",
    "\n",
    "    \n",
    "    return amount\n"
   ]
  },
  {
   "cell_type": "markdown",
   "metadata": {},
   "source": [
    "## If the investor value is a number or contains $, the correct value for amount if missing is the investor value, the correct value for stage is the old amount value and the investor value becomes NaN or missing"
   ]
  },
  {
   "cell_type": "code",
   "execution_count": 31,
   "metadata": {},
   "outputs": [],
   "source": [
    "# Identify rows where 'investor' value is numeric using clean amount function\n",
    "mask = final_dataset['investor'].apply(lambda x: pd.notna(clean_amount(x)))\n",
    "\n",
    "# Update 'stage' column with the 'amount' value if stage is NaN\n",
    "stage_mask = final_dataset['stage'].isna()\n",
    "final_dataset.loc[mask & stage_mask, 'stage']    = final_dataset.loc[mask, 'amount']\n",
    "\n",
    "# Update 'amount' column with 'investor' value\n",
    "final_dataset.loc[mask, 'amount']                = final_dataset.loc[mask, 'investor']\n",
    "\n",
    "# Set 'investor' to NaN\n",
    "final_dataset.loc[mask, 'investor']              = np.nan\n",
    "         \n"
   ]
  },
  {
   "cell_type": "markdown",
   "metadata": {},
   "source": [
    "## If the 'stage' value is a number or contains $, the column 'what_it does' becomes its old value concatenated with the value in the 'founder' column. The correct value for 'founder' is the 'investor' value and the correct value for 'investor' is the 'amount' value and correct 'amount' becomes the old 'stage' value while the correct value for 'stage' is NaN or missing. \n"
   ]
  },
  {
   "cell_type": "code",
   "execution_count": 32,
   "metadata": {},
   "outputs": [],
   "source": [
    "# Identify rows where 'stage' value is numeric using clean amount function\n",
    "mask = final_dataset['stage'].apply(lambda x: pd.notna(clean_amount(x)))\n",
    "\n",
    "# Update the 'what_it_does' column to its concatenation with 'founder' value\n",
    "old_what_it_does = final_dataset.loc[mask, 'what_it_does']\n",
    "old_founder      = final_dataset.loc[mask, 'founders']\n",
    "\n",
    "final_dataset.loc[mask, 'what_it_does']    = old_what_it_does.fillna('') + ' ' + old_founder.fillna('')\n",
    "\n",
    "# Update 'founder' column using the old 'investor' value\n",
    "final_dataset.loc[mask, 'founders']         = final_dataset.loc[mask, 'investor']\n",
    "\n",
    "# Update 'investor' column using the old 'amount' value\n",
    "final_dataset.loc[mask, 'investor']        = final_dataset.loc[mask, 'amount']\n",
    "\n",
    "# Update 'amount' column using the old 'stage' value\n",
    "final_dataset.loc[mask, 'amount']          = final_dataset.loc[mask, 'stage']\n",
    "\n",
    "# Set 'stage' to NaN\n",
    "final_dataset.loc[mask, 'stage']           = np.nan"
   ]
  },
  {
   "cell_type": "markdown",
   "metadata": {},
   "source": [
    "## Clean and convert amounts to USD and rename colume from amount to amount($)"
   ]
  },
  {
   "cell_type": "code",
   "execution_count": 33,
   "metadata": {},
   "outputs": [],
   "source": [
    "# Clean and convert amounts to USD\n",
    "final_dataset['amount'] = [clean_amount(amount) for amount in final_dataset['amount']]"
   ]
  },
  {
   "cell_type": "code",
   "execution_count": 34,
   "metadata": {},
   "outputs": [],
   "source": [
    "final_dataset.rename(columns={'amount': 'amount($)'}, inplace=True)"
   ]
  },
  {
   "cell_type": "markdown",
   "metadata": {},
   "source": [
    "## Replace falsely unique values or actual duplicates in categorical and string columns with their first occurence in the final_dataset"
   ]
  },
  {
   "cell_type": "code",
   "execution_count": 35,
   "metadata": {},
   "outputs": [],
   "source": [
    "# Heuristic Function to replace actual duplicates with first occurrence\n",
    "def replace_col_duplicates(column):\n",
    "    \"\"\"\n",
    "        Replaces duplicates values (identified through some heuristics) in a column with their first occurrence \n",
    "        Although the first occurrence might not be the best representation but it allows for consistency in values\n",
    "        \n",
    "        Parameter: column\n",
    "        Returns  : column with consistent representation of values\n",
    "    \n",
    "    \"\"\"\n",
    "    actual_strings = {}  # Dictionary to store the first occurrence of each modified string\n",
    "    \n",
    "    def replace_string(string):\n",
    "        actual_string = re.sub(r'[^\\w]', '', string).lower() if isinstance(string, str) else string   # Replace all special characters including whitespaces with '' \n",
    "        if actual_string in actual_strings:\n",
    "            return actual_strings[actual_string]\n",
    "        else:\n",
    "            actual_strings[actual_string] = string\n",
    "            return string\n",
    "    return column.apply(replace_string)\n"
   ]
  },
  {
   "cell_type": "code",
   "execution_count": 36,
   "metadata": {},
   "outputs": [],
   "source": [
    "columns_of_interest = ['company_brand', 'headquarter', 'sector', 'founders', 'investor', 'stage']"
   ]
  },
  {
   "cell_type": "code",
   "execution_count": 37,
   "metadata": {},
   "outputs": [],
   "source": [
    "def count_unique_values(columns):\n",
    "    for col in columns:\n",
    "        # Print count of unique items in columns of interest\n",
    "        print(f'{col}: {len(final_dataset[col].unique())}\\n')"
   ]
  },
  {
   "cell_type": "code",
   "execution_count": 38,
   "metadata": {},
   "outputs": [
    {
     "name": "stdout",
     "output_type": "stream",
     "text": [
      "company_brand: 2214\n",
      "\n",
      "headquarter: 143\n",
      "\n",
      "sector: 875\n",
      "\n",
      "founders: 1982\n",
      "\n",
      "investor: 1770\n",
      "\n",
      "stage: 72\n",
      "\n"
     ]
    }
   ],
   "source": [
    "# Count of unique values before running replace_col_duplicates function\n",
    "count_unique_values(columns_of_interest)"
   ]
  },
  {
   "cell_type": "code",
   "execution_count": 39,
   "metadata": {},
   "outputs": [],
   "source": [
    "# Apply the replace actual duplicates function to the string or categorical columns\n",
    "for col in columns_of_interest:\n",
    "    final_dataset[col] = replace_col_duplicates(final_dataset[col])\n"
   ]
  },
  {
   "cell_type": "code",
   "execution_count": 40,
   "metadata": {},
   "outputs": [
    {
     "name": "stdout",
     "output_type": "stream",
     "text": [
      "company_brand: 2133\n",
      "\n",
      "headquarter: 141\n",
      "\n",
      "sector: 819\n",
      "\n",
      "founders: 1971\n",
      "\n",
      "investor: 1729\n",
      "\n",
      "stage: 57\n",
      "\n"
     ]
    }
   ],
   "source": [
    "# Count of unique values after running replace_col_duplicates function\n",
    "count_unique_values(columns_of_interest)"
   ]
  },
  {
   "cell_type": "code",
   "execution_count": 41,
   "metadata": {},
   "outputs": [
    {
     "data": {
      "text/plain": [
       "company_brand      0\n",
       "founded          769\n",
       "headquarter      114\n",
       "sector            18\n",
       "what_it_does       0\n",
       "founders         545\n",
       "investor         633\n",
       "amount($)        556\n",
       "stage            940\n",
       "year               0\n",
       "dtype: int64"
      ]
     },
     "execution_count": 41,
     "metadata": {},
     "output_type": "execute_result"
    }
   ],
   "source": [
    "# Check the number of missing values in the columns of final dataset\n",
    "final_dataset.isna().sum()"
   ]
  },
  {
   "cell_type": "markdown",
   "metadata": {},
   "source": [
    "## Drop duplicated rows in final data set"
   ]
  },
  {
   "cell_type": "code",
   "execution_count": 42,
   "metadata": {},
   "outputs": [],
   "source": [
    "# Drop duplicated from final dataset\n",
    "final_dataset.drop_duplicates(inplace=True)"
   ]
  },
  {
   "cell_type": "code",
   "execution_count": 43,
   "metadata": {},
   "outputs": [
    {
     "data": {
      "text/plain": [
       "company_brand      0\n",
       "founded          768\n",
       "headquarter      114\n",
       "sector            18\n",
       "what_it_does       0\n",
       "founders         544\n",
       "investor         630\n",
       "amount($)        554\n",
       "stage            931\n",
       "year               0\n",
       "dtype: int64"
      ]
     },
     "execution_count": 43,
     "metadata": {},
     "output_type": "execute_result"
    }
   ],
   "source": [
    "# Again, check the number of missing values in the columns of final dataset\n",
    "final_dataset.isna().sum()"
   ]
  },
  {
   "cell_type": "markdown",
   "metadata": {},
   "source": [
    "## Change each column (founded and year) to appropriate Data types"
   ]
  },
  {
   "cell_type": "code",
   "execution_count": 44,
   "metadata": {},
   "outputs": [
    {
     "name": "stdout",
     "output_type": "stream",
     "text": [
      "<class 'pandas.core.frame.DataFrame'>\n",
      "Index: 2856 entries, 0 to 2878\n",
      "Data columns (total 10 columns):\n",
      " #   Column         Non-Null Count  Dtype  \n",
      "---  ------         --------------  -----  \n",
      " 0   company_brand  2856 non-null   object \n",
      " 1   founded        2088 non-null   float64\n",
      " 2   headquarter    2742 non-null   object \n",
      " 3   sector         2838 non-null   object \n",
      " 4   what_it_does   2856 non-null   object \n",
      " 5   founders       2312 non-null   object \n",
      " 6   investor       2226 non-null   object \n",
      " 7   amount($)      2302 non-null   float64\n",
      " 8   stage          1925 non-null   object \n",
      " 9   year           2856 non-null   int64  \n",
      "dtypes: float64(2), int64(1), object(7)\n",
      "memory usage: 245.4+ KB\n"
     ]
    }
   ],
   "source": [
    "final_dataset.info()"
   ]
  },
  {
   "cell_type": "code",
   "execution_count": 45,
   "metadata": {},
   "outputs": [],
   "source": [
    "# Founded is year and datatype should be integer 32 handling missing values gracefuly\n",
    "final_dataset['founded'] = final_dataset['founded'].astype('Int32') # Int32 instead of int32"
   ]
  },
  {
   "cell_type": "code",
   "execution_count": 46,
   "metadata": {},
   "outputs": [],
   "source": [
    "# Year does not need to be int64 but int32\n",
    "final_dataset['year'] = final_dataset['year'].astype('int32')"
   ]
  },
  {
   "cell_type": "code",
   "execution_count": 47,
   "metadata": {},
   "outputs": [
    {
     "name": "stdout",
     "output_type": "stream",
     "text": [
      "<class 'pandas.core.frame.DataFrame'>\n",
      "Index: 2856 entries, 0 to 2878\n",
      "Data columns (total 10 columns):\n",
      " #   Column         Non-Null Count  Dtype  \n",
      "---  ------         --------------  -----  \n",
      " 0   company_brand  2856 non-null   object \n",
      " 1   founded        2088 non-null   Int32  \n",
      " 2   headquarter    2742 non-null   object \n",
      " 3   sector         2838 non-null   object \n",
      " 4   what_it_does   2856 non-null   object \n",
      " 5   founders       2312 non-null   object \n",
      " 6   investor       2226 non-null   object \n",
      " 7   amount($)      2302 non-null   float64\n",
      " 8   stage          1925 non-null   object \n",
      " 9   year           2856 non-null   int32  \n",
      "dtypes: Int32(1), float64(1), int32(1), object(7)\n",
      "memory usage: 225.9+ KB\n"
     ]
    }
   ],
   "source": [
    "final_dataset.info()"
   ]
  },
  {
   "cell_type": "markdown",
   "metadata": {},
   "source": [
    "## Handle missing values in the columns of the final dataset except company_brand, what_it_does and year which have no missing values"
   ]
  },
  {
   "cell_type": "code",
   "execution_count": 48,
   "metadata": {},
   "outputs": [
    {
     "data": {
      "text/html": [
       "<div>\n",
       "<style scoped>\n",
       "    .dataframe tbody tr th:only-of-type {\n",
       "        vertical-align: middle;\n",
       "    }\n",
       "\n",
       "    .dataframe tbody tr th {\n",
       "        vertical-align: top;\n",
       "    }\n",
       "\n",
       "    .dataframe thead th {\n",
       "        text-align: right;\n",
       "    }\n",
       "</style>\n",
       "<table border=\"1\" class=\"dataframe\">\n",
       "  <thead>\n",
       "    <tr style=\"text-align: right;\">\n",
       "      <th></th>\n",
       "      <th>company_brand</th>\n",
       "      <th>founded</th>\n",
       "      <th>headquarter</th>\n",
       "      <th>sector</th>\n",
       "      <th>what_it_does</th>\n",
       "      <th>founders</th>\n",
       "      <th>investor</th>\n",
       "      <th>amount($)</th>\n",
       "      <th>stage</th>\n",
       "      <th>year</th>\n",
       "    </tr>\n",
       "  </thead>\n",
       "  <tbody>\n",
       "    <tr>\n",
       "      <th>count</th>\n",
       "      <td>2856</td>\n",
       "      <td>2088.0</td>\n",
       "      <td>2742</td>\n",
       "      <td>2838</td>\n",
       "      <td>2856</td>\n",
       "      <td>2312</td>\n",
       "      <td>2226</td>\n",
       "      <td>2.302000e+03</td>\n",
       "      <td>1925</td>\n",
       "      <td>2856.000000</td>\n",
       "    </tr>\n",
       "    <tr>\n",
       "      <th>unique</th>\n",
       "      <td>2133</td>\n",
       "      <td>&lt;NA&gt;</td>\n",
       "      <td>139</td>\n",
       "      <td>817</td>\n",
       "      <td>2691</td>\n",
       "      <td>1969</td>\n",
       "      <td>1727</td>\n",
       "      <td>NaN</td>\n",
       "      <td>55</td>\n",
       "      <td>NaN</td>\n",
       "    </tr>\n",
       "    <tr>\n",
       "      <th>top</th>\n",
       "      <td>Byju's</td>\n",
       "      <td>&lt;NA&gt;</td>\n",
       "      <td>Bangalore</td>\n",
       "      <td>FinTech</td>\n",
       "      <td>BYJU'S is an educational technology company th...</td>\n",
       "      <td>Ashneer Grover, Shashvat Nakrani</td>\n",
       "      <td>Inflection Point Ventures</td>\n",
       "      <td>NaN</td>\n",
       "      <td>Seed</td>\n",
       "      <td>NaN</td>\n",
       "    </tr>\n",
       "    <tr>\n",
       "      <th>freq</th>\n",
       "      <td>11</td>\n",
       "      <td>&lt;NA&gt;</td>\n",
       "      <td>859</td>\n",
       "      <td>257</td>\n",
       "      <td>5</td>\n",
       "      <td>7</td>\n",
       "      <td>35</td>\n",
       "      <td>NaN</td>\n",
       "      <td>602</td>\n",
       "      <td>NaN</td>\n",
       "    </tr>\n",
       "    <tr>\n",
       "      <th>mean</th>\n",
       "      <td>NaN</td>\n",
       "      <td>2016.06705</td>\n",
       "      <td>NaN</td>\n",
       "      <td>NaN</td>\n",
       "      <td>NaN</td>\n",
       "      <td>NaN</td>\n",
       "      <td>NaN</td>\n",
       "      <td>1.213781e+08</td>\n",
       "      <td>NaN</td>\n",
       "      <td>2020.017857</td>\n",
       "    </tr>\n",
       "    <tr>\n",
       "      <th>std</th>\n",
       "      <td>NaN</td>\n",
       "      <td>4.368211</td>\n",
       "      <td>NaN</td>\n",
       "      <td>NaN</td>\n",
       "      <td>NaN</td>\n",
       "      <td>NaN</td>\n",
       "      <td>NaN</td>\n",
       "      <td>3.450413e+09</td>\n",
       "      <td>NaN</td>\n",
       "      <td>1.087759</td>\n",
       "    </tr>\n",
       "    <tr>\n",
       "      <th>min</th>\n",
       "      <td>NaN</td>\n",
       "      <td>1963.0</td>\n",
       "      <td>NaN</td>\n",
       "      <td>NaN</td>\n",
       "      <td>NaN</td>\n",
       "      <td>NaN</td>\n",
       "      <td>NaN</td>\n",
       "      <td>7.200000e+02</td>\n",
       "      <td>NaN</td>\n",
       "      <td>2018.000000</td>\n",
       "    </tr>\n",
       "    <tr>\n",
       "      <th>25%</th>\n",
       "      <td>NaN</td>\n",
       "      <td>2015.0</td>\n",
       "      <td>NaN</td>\n",
       "      <td>NaN</td>\n",
       "      <td>NaN</td>\n",
       "      <td>NaN</td>\n",
       "      <td>NaN</td>\n",
       "      <td>1.000000e+06</td>\n",
       "      <td>NaN</td>\n",
       "      <td>2020.000000</td>\n",
       "    </tr>\n",
       "    <tr>\n",
       "      <th>50%</th>\n",
       "      <td>NaN</td>\n",
       "      <td>2017.0</td>\n",
       "      <td>NaN</td>\n",
       "      <td>NaN</td>\n",
       "      <td>NaN</td>\n",
       "      <td>NaN</td>\n",
       "      <td>NaN</td>\n",
       "      <td>3.000000e+06</td>\n",
       "      <td>NaN</td>\n",
       "      <td>2020.000000</td>\n",
       "    </tr>\n",
       "    <tr>\n",
       "      <th>75%</th>\n",
       "      <td>NaN</td>\n",
       "      <td>2019.0</td>\n",
       "      <td>NaN</td>\n",
       "      <td>NaN</td>\n",
       "      <td>NaN</td>\n",
       "      <td>NaN</td>\n",
       "      <td>NaN</td>\n",
       "      <td>1.200000e+07</td>\n",
       "      <td>NaN</td>\n",
       "      <td>2021.000000</td>\n",
       "    </tr>\n",
       "    <tr>\n",
       "      <th>max</th>\n",
       "      <td>NaN</td>\n",
       "      <td>2021.0</td>\n",
       "      <td>NaN</td>\n",
       "      <td>NaN</td>\n",
       "      <td>NaN</td>\n",
       "      <td>NaN</td>\n",
       "      <td>NaN</td>\n",
       "      <td>1.500000e+11</td>\n",
       "      <td>NaN</td>\n",
       "      <td>2021.000000</td>\n",
       "    </tr>\n",
       "  </tbody>\n",
       "</table>\n",
       "</div>"
      ],
      "text/plain": [
       "       company_brand     founded headquarter   sector  \\\n",
       "count           2856      2088.0        2742     2838   \n",
       "unique          2133        <NA>         139      817   \n",
       "top           Byju's        <NA>   Bangalore  FinTech   \n",
       "freq              11        <NA>         859      257   \n",
       "mean             NaN  2016.06705         NaN      NaN   \n",
       "std              NaN    4.368211         NaN      NaN   \n",
       "min              NaN      1963.0         NaN      NaN   \n",
       "25%              NaN      2015.0         NaN      NaN   \n",
       "50%              NaN      2017.0         NaN      NaN   \n",
       "75%              NaN      2019.0         NaN      NaN   \n",
       "max              NaN      2021.0         NaN      NaN   \n",
       "\n",
       "                                             what_it_does  \\\n",
       "count                                                2856   \n",
       "unique                                               2691   \n",
       "top     BYJU'S is an educational technology company th...   \n",
       "freq                                                    5   \n",
       "mean                                                  NaN   \n",
       "std                                                   NaN   \n",
       "min                                                   NaN   \n",
       "25%                                                   NaN   \n",
       "50%                                                   NaN   \n",
       "75%                                                   NaN   \n",
       "max                                                   NaN   \n",
       "\n",
       "                                founders                   investor  \\\n",
       "count                               2312                       2226   \n",
       "unique                              1969                       1727   \n",
       "top     Ashneer Grover, Shashvat Nakrani  Inflection Point Ventures   \n",
       "freq                                   7                         35   \n",
       "mean                                 NaN                        NaN   \n",
       "std                                  NaN                        NaN   \n",
       "min                                  NaN                        NaN   \n",
       "25%                                  NaN                        NaN   \n",
       "50%                                  NaN                        NaN   \n",
       "75%                                  NaN                        NaN   \n",
       "max                                  NaN                        NaN   \n",
       "\n",
       "           amount($) stage         year  \n",
       "count   2.302000e+03  1925  2856.000000  \n",
       "unique           NaN    55          NaN  \n",
       "top              NaN  Seed          NaN  \n",
       "freq             NaN   602          NaN  \n",
       "mean    1.213781e+08   NaN  2020.017857  \n",
       "std     3.450413e+09   NaN     1.087759  \n",
       "min     7.200000e+02   NaN  2018.000000  \n",
       "25%     1.000000e+06   NaN  2020.000000  \n",
       "50%     3.000000e+06   NaN  2020.000000  \n",
       "75%     1.200000e+07   NaN  2021.000000  \n",
       "max     1.500000e+11   NaN  2021.000000  "
      ]
     },
     "execution_count": 48,
     "metadata": {},
     "output_type": "execute_result"
    }
   ],
   "source": [
    "final_dataset.describe(include='all')"
   ]
  },
  {
   "cell_type": "code",
   "execution_count": 49,
   "metadata": {},
   "outputs": [
    {
     "name": "stdout",
     "output_type": "stream",
     "text": [
      "<class 'pandas.core.frame.DataFrame'>\n",
      "Index: 2856 entries, 0 to 2878\n",
      "Data columns (total 10 columns):\n",
      " #   Column         Non-Null Count  Dtype  \n",
      "---  ------         --------------  -----  \n",
      " 0   company_brand  2856 non-null   object \n",
      " 1   founded        2088 non-null   Int32  \n",
      " 2   headquarter    2742 non-null   object \n",
      " 3   sector         2838 non-null   object \n",
      " 4   what_it_does   2856 non-null   object \n",
      " 5   founders       2312 non-null   object \n",
      " 6   investor       2226 non-null   object \n",
      " 7   amount($)      2302 non-null   float64\n",
      " 8   stage          1925 non-null   object \n",
      " 9   year           2856 non-null   int32  \n",
      "dtypes: Int32(1), float64(1), int32(1), object(7)\n",
      "memory usage: 225.9+ KB\n"
     ]
    }
   ],
   "source": [
    "final_dataset.info()"
   ]
  },
  {
   "cell_type": "code",
   "execution_count": 50,
   "metadata": {},
   "outputs": [
    {
     "data": {
      "text/plain": [
       "company_brand    False\n",
       "founded           True\n",
       "headquarter       True\n",
       "sector            True\n",
       "what_it_does     False\n",
       "founders          True\n",
       "investor          True\n",
       "amount($)         True\n",
       "stage             True\n",
       "year             False\n",
       "dtype: bool"
      ]
     },
     "execution_count": 50,
     "metadata": {},
     "output_type": "execute_result"
    }
   ],
   "source": [
    "final_dataset.isna().any()"
   ]
  },
  {
   "cell_type": "markdown",
   "metadata": {},
   "source": [
    "### Founded column"
   ]
  },
  {
   "cell_type": "code",
   "execution_count": 51,
   "metadata": {},
   "outputs": [
    {
     "data": {
      "text/plain": [
       "<IntegerArray>\n",
       "[2019, 2018, 2020, 2016, 2008, 2015, 2017, 2014, 1998, 2007, 2011, 1982, 2013,\n",
       " 2009, 2012, 1995, 2010, 2006, 1978, <NA>, 1999, 1994, 2005, 1973, 2002, 2004,\n",
       " 2001, 2021, 1993, 1989, 2000, 2003, 1991, 1984, 1963]\n",
       "Length: 35, dtype: Int32"
      ]
     },
     "execution_count": 51,
     "metadata": {},
     "output_type": "execute_result"
    }
   ],
   "source": [
    "final_dataset['founded'].unique()"
   ]
  },
  {
   "cell_type": "code",
   "execution_count": 52,
   "metadata": {},
   "outputs": [],
   "source": [
    "# Impute missing values in 'founded' column with median by year\n",
    "founded_median_by_year = final_dataset['founded']"
   ]
  },
  {
   "cell_type": "markdown",
   "metadata": {},
   "source": [
    "### Headquarter column"
   ]
  },
  {
   "cell_type": "markdown",
   "metadata": {},
   "source": [
    "### Sector column"
   ]
  },
  {
   "cell_type": "markdown",
   "metadata": {},
   "source": [
    "### Founders column"
   ]
  },
  {
   "cell_type": "markdown",
   "metadata": {},
   "source": [
    "### Investor column"
   ]
  },
  {
   "cell_type": "markdown",
   "metadata": {},
   "source": [
    "### Amount column"
   ]
  },
  {
   "cell_type": "markdown",
   "metadata": {},
   "source": [
    "### Stage column"
   ]
  },
  {
   "cell_type": "code",
   "execution_count": 53,
   "metadata": {},
   "outputs": [
    {
     "data": {
      "text/plain": [
       "array([None, 'Pre-seed', 'Seed', 'Pre-series A', 'Pre-series', 'Series C',\n",
       "       'Series A', 'Series B', 'Debt', 'Pre-series C', 'Pre-series B',\n",
       "       'Series E', 'Bridge', 'Series D', 'Series B2', 'Series F', 'Edge',\n",
       "       'Series H', 'Seed A', 'Series A-1', 'Seed Funding', 'Seed round',\n",
       "       'Pre-seed Round', 'Seed Round & Series A', 'Angel Round',\n",
       "       'Pre series A1', 'Series E2', 'Bridge Round', 'Seed Investment',\n",
       "       'Series D1', 'Mid series', 'Series C, D', nan, 'Series F2',\n",
       "       'Series G', 'Series B3', 'PE', 'Series F1', 'Early seed',\n",
       "       'Seies A', 'Series A2', 'Series I', 'Fresh funding',\n",
       "       'Post series A', 'Seed fund', 'Angel', 'Private Equity',\n",
       "       'Venture - Series Unknown', 'Grant', 'Debt Financing',\n",
       "       'Post-IPO Debt', 'Corporate Round', 'Undisclosed',\n",
       "       'Secondary Market', 'Post-IPO Equity', 'Non-equity Assistance',\n",
       "       'Funding Round'], dtype=object)"
      ]
     },
     "execution_count": 53,
     "metadata": {},
     "output_type": "execute_result"
    }
   ],
   "source": [
    "final_dataset['stage'].unique()"
   ]
  },
  {
   "cell_type": "markdown",
   "metadata": {},
   "source": [
    "### Fill missing values and replace Undisclosed values in 'stage' column with 'Venture - Series Unknown"
   ]
  },
  {
   "cell_type": "code",
   "execution_count": 54,
   "metadata": {},
   "outputs": [],
   "source": [
    "# Fill missing values in 'stage' column with 'Venture - Series Unknown\n",
    "final_dataset['stage'].fillna('Venture - Series Unknown', inplace=True)\n",
    "\n",
    "# Replace Undisclosed values in 'stage' column with 'Venture - Series Unknown\n",
    "final_dataset['stage'].replace(to_replace='Undisclosed', value='Venture - Series Unknown', inplace=True)\n"
   ]
  },
  {
   "cell_type": "code",
   "execution_count": 55,
   "metadata": {},
   "outputs": [
    {
     "data": {
      "text/plain": [
       "array(['Venture - Series Unknown', 'Pre-seed', 'Seed', 'Pre-series A',\n",
       "       'Pre-series', 'Series C', 'Series A', 'Series B', 'Debt',\n",
       "       'Pre-series C', 'Pre-series B', 'Series E', 'Bridge', 'Series D',\n",
       "       'Series B2', 'Series F', 'Edge', 'Series H', 'Seed A',\n",
       "       'Series A-1', 'Seed Funding', 'Seed round', 'Pre-seed Round',\n",
       "       'Seed Round & Series A', 'Angel Round', 'Pre series A1',\n",
       "       'Series E2', 'Bridge Round', 'Seed Investment', 'Series D1',\n",
       "       'Mid series', 'Series C, D', 'Series F2', 'Series G', 'Series B3',\n",
       "       'PE', 'Series F1', 'Early seed', 'Seies A', 'Series A2',\n",
       "       'Series I', 'Fresh funding', 'Post series A', 'Seed fund', 'Angel',\n",
       "       'Private Equity', 'Grant', 'Debt Financing', 'Post-IPO Debt',\n",
       "       'Corporate Round', 'Secondary Market', 'Post-IPO Equity',\n",
       "       'Non-equity Assistance', 'Funding Round'], dtype=object)"
      ]
     },
     "execution_count": 55,
     "metadata": {},
     "output_type": "execute_result"
    }
   ],
   "source": [
    "final_dataset['stage'].unique()"
   ]
  },
  {
   "cell_type": "code",
   "execution_count": 56,
   "metadata": {},
   "outputs": [
    {
     "data": {
      "text/plain": [
       "company_brand      0\n",
       "founded          768\n",
       "headquarter      114\n",
       "sector            18\n",
       "what_it_does       0\n",
       "founders         544\n",
       "investor         630\n",
       "amount($)        554\n",
       "stage              0\n",
       "year               0\n",
       "dtype: int64"
      ]
     },
     "execution_count": 56,
     "metadata": {},
     "output_type": "execute_result"
    }
   ],
   "source": [
    "final_dataset.isna().sum()"
   ]
  },
  {
   "cell_type": "markdown",
   "metadata": {},
   "source": [
    "## Handling Missing Values in the Founders Column\n",
    "### The dataset had 545 missing values for the founders, so we decided to drop the column for founders as we will not need it for analysis"
   ]
  },
  {
   "cell_type": "code",
   "execution_count": 57,
   "metadata": {},
   "outputs": [],
   "source": [
    "final_dataset.drop('founders', axis=1, inplace=True) "
   ]
  },
  {
   "cell_type": "markdown",
   "metadata": {},
   "source": [
    "## Handling Missing Values in the Sector column\n",
    "### The sector column had 18 missing values so we filled them with the value Unknown"
   ]
  },
  {
   "cell_type": "code",
   "execution_count": 58,
   "metadata": {},
   "outputs": [],
   "source": [
    "# Filling the missing values in sector column with Unkownn\n",
    "final_dataset['sector'].fillna(\"Unknown\", inplace=True)\n"
   ]
  },
  {
   "cell_type": "code",
   "execution_count": 59,
   "metadata": {},
   "outputs": [
    {
     "data": {
      "text/plain": [
       "5"
      ]
     },
     "execution_count": 59,
     "metadata": {},
     "output_type": "execute_result"
    }
   ],
   "source": [
    "len(re.sub(r'[^\\,]', '', \"ar345547686,,4,5,,\"))"
   ]
  },
  {
   "cell_type": "markdown",
   "metadata": {},
   "source": [
    "## Handling Missing values in the Investor Column\n",
    " "
   ]
  },
  {
   "cell_type": "code",
   "execution_count": 60,
   "metadata": {},
   "outputs": [],
   "source": [
    "# Calculate the mode for each sector in the 'investor' column\n",
    "mode_per_sector = final_dataset.groupby('sector')['investor'].transform(lambda x: x.mode().iloc[0] if not x.mode().empty else \"Unknown\")\n",
    "\n",
    "\n",
    "# Fill missing values in the 'investor' column with the calculated mode per sector\n",
    "final_dataset['investor'].fillna(mode_per_sector, inplace=True)\n"
   ]
  },
  {
   "cell_type": "code",
   "execution_count": 61,
   "metadata": {},
   "outputs": [
    {
     "data": {
      "text/plain": [
       "company_brand      0\n",
       "founded          768\n",
       "headquarter      114\n",
       "sector             0\n",
       "what_it_does       0\n",
       "investor           0\n",
       "amount($)        554\n",
       "stage              0\n",
       "year               0\n",
       "dtype: int64"
      ]
     },
     "execution_count": 61,
     "metadata": {},
     "output_type": "execute_result"
    }
   ],
   "source": [
    "final_dataset.isna().sum()\n"
   ]
  },
  {
   "cell_type": "markdown",
   "metadata": {},
   "source": [
    "## Filling null values in the column for Head Quarter"
   ]
  },
  {
   "cell_type": "code",
   "execution_count": 62,
   "metadata": {},
   "outputs": [],
   "source": [
    "# Set seed for reproducibility\n",
    "np.random.seed(2024)\n",
    "\n",
    "# Identify the rows with missing 'headquarter' values\n",
    "mask = final_dataset['headquarter'].isna()\n",
    "\n",
    "# Get non-missing values for final_dataset['headquarter']\n",
    "non_missing_hq = final_dataset.loc[mask==False, 'headquarter'] \n",
    "\n",
    "hq_missing     = mask.sum()\n",
    "\n",
    "# Randomly sample non-missing values to fill missing values of size hq_missing, 114\n",
    "hq_random      = np.random.choice(non_missing_hq, size=hq_missing)\n",
    "\n",
    "# Fill missing values with randomly sampled headquarter values\n",
    "final_dataset.loc[mask, 'headquarter'] = hq_random\n"
   ]
  },
  {
   "cell_type": "code",
   "execution_count": 63,
   "metadata": {},
   "outputs": [
    {
     "data": {
      "text/plain": [
       "company_brand      0\n",
       "founded          768\n",
       "headquarter        0\n",
       "sector             0\n",
       "what_it_does       0\n",
       "investor           0\n",
       "amount($)        554\n",
       "stage              0\n",
       "year               0\n",
       "dtype: int64"
      ]
     },
     "execution_count": 63,
     "metadata": {},
     "output_type": "execute_result"
    }
   ],
   "source": [
    "final_dataset.isna().sum()\n"
   ]
  },
  {
   "cell_type": "markdown",
   "metadata": {},
   "source": [
    "# Save datasets as flat files"
   ]
  },
  {
   "cell_type": "code",
   "execution_count": 64,
   "metadata": {},
   "outputs": [],
   "source": [
    "# Dataset from Microsoft SQL database\n",
    "# first_dataset.to_csv('DataSets/individual_csv/startup_funding2020-2021.csv')"
   ]
  },
  {
   "cell_type": "code",
   "execution_count": 65,
   "metadata": {},
   "outputs": [],
   "source": [
    "# Final merged dataset with cleaned column names and cleaned amount values\n",
    "# final_dataset.to_csv('DataSets/final_csv/startup_funding2018-2021.csv')"
   ]
  },
  {
   "cell_type": "markdown",
   "metadata": {},
   "source": [
    "### Business Questions\n",
    "####\n",
    "1.What sectors have shown the highest growth in terms of funding received over the past four years?\n",
    "\n",
    "2.What locations within India have emerged as the primary hubs for startup activity and investment, and what factors contribute to their prominence?\n",
    "\n",
    "3.Are there any notable differences in funding patterns between early-stage startups and more established companies?\n",
    "\n",
    "4.What are the key characteristics of startups that successfully secure funding, and how do they differ from those that struggle to attract investment?\n",
    "\n",
    "5.Which sectors recieve the lowest level of funding and which sectors recieve the highest levels of funding in India and what factors contribute to this?\n",
    "\n",
    "6.Which investors have more impact on startups over the years?"
   ]
  },
  {
   "cell_type": "code",
   "execution_count": 66,
   "metadata": {},
   "outputs": [
    {
     "data": {
      "text/plain": [
       "array([[<Axes: title={'center': 'founded'}>,\n",
       "        <Axes: title={'center': 'amount($)'}>],\n",
       "       [<Axes: title={'center': 'year'}>, <Axes: >]], dtype=object)"
      ]
     },
     "execution_count": 66,
     "metadata": {},
     "output_type": "execute_result"
    },
    {
     "data": {
      "image/png": "[encoded data removed]",
      "text/plain": [
       "<Figure size 640x480 with 4 Axes>"
      ]
     },
     "metadata": {},
     "output_type": "display_data"
    }
   ],
   "source": [
    "final_dataset.hist()"
   ]
  },
  {
   "cell_type": "code",
   "execution_count": 67,
   "metadata": {},
   "outputs": [],
   "source": [
    "amount_median = final_dataset['amount($)'].median()\n",
    "final_dataset['amount($)'].fillna(amount_median, inplace=True)\n"
   ]
  },
  {
   "cell_type": "code",
   "execution_count": null,
   "metadata": {},
   "outputs": [],
   "source": []
  },
  {
   "cell_type": "markdown",
   "metadata": {},
   "source": [
    "## Hypothesis Testing\n",
    "#### Null Hypothesis(Ho): There is no siginificate difference in the amount of funding between startups in Bangalore.\n",
    "#### Alternative Hypothesis(Ha): There is a siginificate difference in the amount of funding between startups in Banaglore."
   ]
  },
  {
   "cell_type": "markdown",
   "metadata": {},
   "source": [
    "### Test"
   ]
  },
  {
   "cell_type": "code",
   "execution_count": 68,
   "metadata": {},
   "outputs": [],
   "source": [
    "startups_in_bangalore = final_dataset[final_dataset['headquarter']=='Bangalore']\n",
    "startups_not_in_bangalore = final_dataset[final_dataset['headquarter']!='Bangalore']"
   ]
  },
  {
   "cell_type": "code",
   "execution_count": 69,
   "metadata": {},
   "outputs": [
    {
     "name": "stdout",
     "output_type": "stream",
     "text": [
      "t-value:-0.8262903724272099\n",
      "p-value:0.4087084633975461\n"
     ]
    }
   ],
   "source": [
    "t,p =stats.ttest_ind(startups_in_bangalore['amount($)'],startups_not_in_bangalore['amount($)'])\n",
    "print(f't-value:{t}')\n",
    "print(f'p-value:{p}')"
   ]
  },
  {
   "cell_type": "code",
   "execution_count": 70,
   "metadata": {},
   "outputs": [
    {
     "name": "stdout",
     "output_type": "stream",
     "text": [
      "We failed to reject the null hypothesis. There is a siginificate difference in the amount of funding between startups in Bangalore.\n"
     ]
    }
   ],
   "source": [
    "# Set Significance level\n",
    "alpha = 0.05\n",
    "\n",
    "#Compare p-value to the significance level\n",
    "if p < alpha:\n",
    "    print(\"We reject the null hypothesis. Which is there is no siginificate difference in the amount of funding between startups in Bangalore.\")\n",
    "else:\n",
    "   print(\"We failed to reject the null hypothesis. There is a siginificate difference in the amount of funding between startups in Bangalore.\")"
   ]
  },
  {
   "cell_type": "code",
   "execution_count": 71,
   "metadata": {},
   "outputs": [
    {
     "data": {
      "text/html": [
       "<div>\n",
       "<style scoped>\n",
       "    .dataframe tbody tr th:only-of-type {\n",
       "        vertical-align: middle;\n",
       "    }\n",
       "\n",
       "    .dataframe tbody tr th {\n",
       "        vertical-align: top;\n",
       "    }\n",
       "\n",
       "    .dataframe thead th {\n",
       "        text-align: right;\n",
       "    }\n",
       "</style>\n",
       "<table border=\"1\" class=\"dataframe\">\n",
       "  <thead>\n",
       "    <tr style=\"text-align: right;\">\n",
       "      <th></th>\n",
       "      <th>company_brand</th>\n",
       "      <th>founded</th>\n",
       "      <th>headquarter</th>\n",
       "      <th>sector</th>\n",
       "      <th>what_it_does</th>\n",
       "      <th>investor</th>\n",
       "      <th>amount($)</th>\n",
       "      <th>stage</th>\n",
       "      <th>year</th>\n",
       "    </tr>\n",
       "  </thead>\n",
       "  <tbody>\n",
       "    <tr>\n",
       "      <th>count</th>\n",
       "      <td>2856</td>\n",
       "      <td>2088.0</td>\n",
       "      <td>2856</td>\n",
       "      <td>2856</td>\n",
       "      <td>2856</td>\n",
       "      <td>2856</td>\n",
       "      <td>2.856000e+03</td>\n",
       "      <td>2856</td>\n",
       "      <td>2856.000000</td>\n",
       "    </tr>\n",
       "    <tr>\n",
       "      <th>unique</th>\n",
       "      <td>2133</td>\n",
       "      <td>&lt;NA&gt;</td>\n",
       "      <td>139</td>\n",
       "      <td>818</td>\n",
       "      <td>2691</td>\n",
       "      <td>1728</td>\n",
       "      <td>NaN</td>\n",
       "      <td>54</td>\n",
       "      <td>NaN</td>\n",
       "    </tr>\n",
       "    <tr>\n",
       "      <th>top</th>\n",
       "      <td>Byju's</td>\n",
       "      <td>&lt;NA&gt;</td>\n",
       "      <td>Bangalore</td>\n",
       "      <td>FinTech</td>\n",
       "      <td>BYJU'S is an educational technology company th...</td>\n",
       "      <td>Unknown</td>\n",
       "      <td>NaN</td>\n",
       "      <td>Venture - Series Unknown</td>\n",
       "      <td>NaN</td>\n",
       "    </tr>\n",
       "    <tr>\n",
       "      <th>freq</th>\n",
       "      <td>11</td>\n",
       "      <td>&lt;NA&gt;</td>\n",
       "      <td>896</td>\n",
       "      <td>257</td>\n",
       "      <td>5</td>\n",
       "      <td>449</td>\n",
       "      <td>NaN</td>\n",
       "      <td>970</td>\n",
       "      <td>NaN</td>\n",
       "    </tr>\n",
       "    <tr>\n",
       "      <th>mean</th>\n",
       "      <td>NaN</td>\n",
       "      <td>2016.06705</td>\n",
       "      <td>NaN</td>\n",
       "      <td>NaN</td>\n",
       "      <td>NaN</td>\n",
       "      <td>NaN</td>\n",
       "      <td>9.841537e+07</td>\n",
       "      <td>NaN</td>\n",
       "      <td>2020.017857</td>\n",
       "    </tr>\n",
       "    <tr>\n",
       "      <th>std</th>\n",
       "      <td>NaN</td>\n",
       "      <td>4.368211</td>\n",
       "      <td>NaN</td>\n",
       "      <td>NaN</td>\n",
       "      <td>NaN</td>\n",
       "      <td>NaN</td>\n",
       "      <td>3.097961e+09</td>\n",
       "      <td>NaN</td>\n",
       "      <td>1.087759</td>\n",
       "    </tr>\n",
       "    <tr>\n",
       "      <th>min</th>\n",
       "      <td>NaN</td>\n",
       "      <td>1963.0</td>\n",
       "      <td>NaN</td>\n",
       "      <td>NaN</td>\n",
       "      <td>NaN</td>\n",
       "      <td>NaN</td>\n",
       "      <td>7.200000e+02</td>\n",
       "      <td>NaN</td>\n",
       "      <td>2018.000000</td>\n",
       "    </tr>\n",
       "    <tr>\n",
       "      <th>25%</th>\n",
       "      <td>NaN</td>\n",
       "      <td>2015.0</td>\n",
       "      <td>NaN</td>\n",
       "      <td>NaN</td>\n",
       "      <td>NaN</td>\n",
       "      <td>NaN</td>\n",
       "      <td>1.000000e+06</td>\n",
       "      <td>NaN</td>\n",
       "      <td>2020.000000</td>\n",
       "    </tr>\n",
       "    <tr>\n",
       "      <th>50%</th>\n",
       "      <td>NaN</td>\n",
       "      <td>2017.0</td>\n",
       "      <td>NaN</td>\n",
       "      <td>NaN</td>\n",
       "      <td>NaN</td>\n",
       "      <td>NaN</td>\n",
       "      <td>3.000000e+06</td>\n",
       "      <td>NaN</td>\n",
       "      <td>2020.000000</td>\n",
       "    </tr>\n",
       "    <tr>\n",
       "      <th>75%</th>\n",
       "      <td>NaN</td>\n",
       "      <td>2019.0</td>\n",
       "      <td>NaN</td>\n",
       "      <td>NaN</td>\n",
       "      <td>NaN</td>\n",
       "      <td>NaN</td>\n",
       "      <td>8.000000e+06</td>\n",
       "      <td>NaN</td>\n",
       "      <td>2021.000000</td>\n",
       "    </tr>\n",
       "    <tr>\n",
       "      <th>max</th>\n",
       "      <td>NaN</td>\n",
       "      <td>2021.0</td>\n",
       "      <td>NaN</td>\n",
       "      <td>NaN</td>\n",
       "      <td>NaN</td>\n",
       "      <td>NaN</td>\n",
       "      <td>1.500000e+11</td>\n",
       "      <td>NaN</td>\n",
       "      <td>2021.000000</td>\n",
       "    </tr>\n",
       "  </tbody>\n",
       "</table>\n",
       "</div>"
      ],
      "text/plain": [
       "       company_brand     founded headquarter   sector  \\\n",
       "count           2856      2088.0        2856     2856   \n",
       "unique          2133        <NA>         139      818   \n",
       "top           Byju's        <NA>   Bangalore  FinTech   \n",
       "freq              11        <NA>         896      257   \n",
       "mean             NaN  2016.06705         NaN      NaN   \n",
       "std              NaN    4.368211         NaN      NaN   \n",
       "min              NaN      1963.0         NaN      NaN   \n",
       "25%              NaN      2015.0         NaN      NaN   \n",
       "50%              NaN      2017.0         NaN      NaN   \n",
       "75%              NaN      2019.0         NaN      NaN   \n",
       "max              NaN      2021.0         NaN      NaN   \n",
       "\n",
       "                                             what_it_does investor  \\\n",
       "count                                                2856     2856   \n",
       "unique                                               2691     1728   \n",
       "top     BYJU'S is an educational technology company th...  Unknown   \n",
       "freq                                                    5      449   \n",
       "mean                                                  NaN      NaN   \n",
       "std                                                   NaN      NaN   \n",
       "min                                                   NaN      NaN   \n",
       "25%                                                   NaN      NaN   \n",
       "50%                                                   NaN      NaN   \n",
       "75%                                                   NaN      NaN   \n",
       "max                                                   NaN      NaN   \n",
       "\n",
       "           amount($)                     stage         year  \n",
       "count   2.856000e+03                      2856  2856.000000  \n",
       "unique           NaN                        54          NaN  \n",
       "top              NaN  Venture - Series Unknown          NaN  \n",
       "freq             NaN                       970          NaN  \n",
       "mean    9.841537e+07                       NaN  2020.017857  \n",
       "std     3.097961e+09                       NaN     1.087759  \n",
       "min     7.200000e+02                       NaN  2018.000000  \n",
       "25%     1.000000e+06                       NaN  2020.000000  \n",
       "50%     3.000000e+06                       NaN  2020.000000  \n",
       "75%     8.000000e+06                       NaN  2021.000000  \n",
       "max     1.500000e+11                       NaN  2021.000000  "
      ]
     },
     "execution_count": 71,
     "metadata": {},
     "output_type": "execute_result"
    }
   ],
   "source": [
    "final_dataset.describe(include=\"all\")"
   ]
  },
  {
   "cell_type": "code",
   "execution_count": 72,
   "metadata": {},
   "outputs": [
    {
     "data": {
      "text/plain": [
       "headquarter\n",
       "Bangalore                           896\n",
       "Mumbai                              484\n",
       "Gurugram                            248\n",
       "New Delhi                           242\n",
       "Chennai                             109\n",
       "                                   ... \n",
       "Berlin                                1\n",
       "Tangerang, Jawa Barat, Indonesia      1\n",
       "San Franciscao                        1\n",
       "Dehradun                              1\n",
       "Guindy                                1\n",
       "Name: count, Length: 139, dtype: int64"
      ]
     },
     "execution_count": 72,
     "metadata": {},
     "output_type": "execute_result"
    }
   ],
   "source": [
    "final_dataset['headquarter'].value_counts()"
   ]
  },
  {
   "cell_type": "markdown",
   "metadata": {},
   "source": [
    "Made with 💖 [Gabriel Okundaye](https://www.linkedin.com/in/dr-gabriel-okundaye)\n",
    "<span style=\"color: #aaaaaa;\">Blood and sweat</span>\n"
   ]
  },
  {
   "cell_type": "code",
   "execution_count": 73,
   "metadata": {},
   "outputs": [],
   "source": [
    "# import re\n",
    "\n",
    "# # Function to convert Indian Rupees to dollars\n",
    "# def inr_to_usd(amount):\n",
    "#     inr_to_usd_rate = 0.014  # Assuming 1 INR = 0.014 USD\n",
    "#     if '₹' in amount:\n",
    "#         amount = re.sub(r'[^\\d.]', '', amount)  # Remove non-digit characters\n",
    "#         amount = float(amount) * inr_to_usd_rate\n",
    "#     return amount\n",
    "\n",
    "# # Convert Indian Rupees to dollars\n",
    "# df['amount'] = df['amount'].apply(inr_to_usd)\n",
    "\n",
    "# # Function to remove dollar sign and convert to int\n",
    "# def clean_amount(amount):\n",
    "#     if '$' in amount:\n",
    "#         amount = re.sub(r'[^\\d.]', '', amount)  # Remove non-digit characters\n",
    "#         amount = int(amount)\n",
    "#     return amount\n",
    "\n",
    "# # Remove dollar sign and convert to int\n",
    "# df['amount'] = df['amount'].apply(clean_amount)\n",
    "\n",
    "# df"
   ]
  }
 ],
 "metadata": {
  "kernelspec": {
   "display_name": "Python 3 (ipykernel)",
   "language": "python",
   "name": "python3"
  },
  "language_info": {
   "codemirror_mode": {
    "name": "ipython",
    "version": 3
   },
   "file_extension": ".py",
   "mimetype": "text/x-python",
   "name": "python",
   "nbconvert_exporter": "python",
   "pygments_lexer": "ipython3",
   "version": "3.11.6"
  }
 },
 "nbformat": 4,
 "nbformat_minor": 4
}
